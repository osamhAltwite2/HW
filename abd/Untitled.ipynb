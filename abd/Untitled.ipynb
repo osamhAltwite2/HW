{
 "cells": [
  {
   "cell_type": "code",
   "execution_count": 1,
   "id": "72c061b3",
   "metadata": {},
   "outputs": [],
   "source": [
    "import os\n",
    "import matplotlib.pyplot as plt\n",
    "import matplotlib.image as immg\n",
    "import random \n",
    "import tensorflow as tf"
   ]
  },
  {
   "cell_type": "code",
   "execution_count": 2,
   "id": "164e8730",
   "metadata": {},
   "outputs": [
    {
     "ename": "FileNotFoundError",
     "evalue": "[WinError 3] The system cannot find the path specified: 'dataset/'",
     "output_type": "error",
     "traceback": [
      "\u001b[1;31m---------------------------------------------------------------------------\u001b[0m",
      "\u001b[1;31mFileNotFoundError\u001b[0m                         Traceback (most recent call last)",
      "\u001b[1;32m~\\AppData\\Local\\Temp/ipykernel_25852/3056954930.py\u001b[0m in \u001b[0;36m<module>\u001b[1;34m\u001b[0m\n\u001b[1;32m----> 1\u001b[1;33m \u001b[0mread_fil\u001b[0m\u001b[1;33m=\u001b[0m\u001b[0mos\u001b[0m\u001b[1;33m.\u001b[0m\u001b[0mlistdir\u001b[0m\u001b[1;33m(\u001b[0m\u001b[1;34m\"dataset/\"\u001b[0m\u001b[1;33m)\u001b[0m\u001b[1;33m\u001b[0m\u001b[1;33m\u001b[0m\u001b[0m\n\u001b[0m",
      "\u001b[1;31mFileNotFoundError\u001b[0m: [WinError 3] The system cannot find the path specified: 'dataset/'"
     ]
    }
   ],
   "source": [
    "read_fil=os.listdir(\"dataset/\")"
   ]
  },
  {
   "cell_type": "code",
   "execution_count": null,
   "id": "ca3e2230",
   "metadata": {},
   "outputs": [],
   "source": [
    "read_fil"
   ]
  },
  {
   "cell_type": "code",
   "execution_count": null,
   "id": "ede765ec",
   "metadata": {},
   "outputs": [],
   "source": [
    "os.listdir(\"dataset/\")"
   ]
  },
  {
   "cell_type": "code",
   "execution_count": null,
   "id": "d28e3984",
   "metadata": {},
   "outputs": [],
   "source": [
    "len(os.listdir(\"dataset/\"))"
   ]
  },
  {
   "cell_type": "code",
   "execution_count": null,
   "id": "1b4b8470",
   "metadata": {},
   "outputs": [],
   "source": [
    "def image_show_d(fod):\n",
    "    file_name=random.sample(os.listdir(fod),1)[0]\n",
    "    im_picsl=immg.imread(fod+\"/\"+file_name)\n",
    "    plt.imshow(im_picsl)"
   ]
  },
  {
   "cell_type": "code",
   "execution_count": null,
   "id": "4a0288f9",
   "metadata": {},
   "outputs": [],
   "source": [
    "image_show_d(\"dataset/Apple/\")"
   ]
  },
  {
   "cell_type": "code",
   "execution_count": null,
   "id": "04d9a7cd",
   "metadata": {},
   "outputs": [],
   "source": [
    "from tensorflow.keras.preprocessing.image import ImageDataGenerator"
   ]
  },
  {
   "cell_type": "markdown",
   "id": "c16ec19b",
   "metadata": {},
   "source": [
    "rotation_range=20,#يدور الصورة بنسبة\n",
    "                                     zoom_range=0.2,#تقريب الصورة بنسبة\n",
    "                                     width_shift_range=0.2,#مد عرض الصورة\n",
    "                                     height_shift_range=0.2,#مدطول الصورة\n",
    "                                     horizontal_flip=True,#قلب الصورة"
   ]
  },
  {
   "cell_type": "code",
   "execution_count": null,
   "id": "801250b8",
   "metadata": {},
   "outputs": [],
   "source": [
    "imag_grenator=ImageDataGenerator(rescale=1/255.0,\n",
    "                                validation_split=0.2,\n",
    "                                rotation_range=30,\n",
    "                                width_shift_range=0.2,\n",
    "                                height_shift_range=0.2,\n",
    "                                shear_range=0.2,\n",
    "                                zoom_range=0.2,\n",
    "                                horizontal_flip=True,\n",
    "                                 \n",
    "                                )\n",
    "train_dir=\"dataset/\"\n",
    "test_dir=\"dataset/\"\n",
    "\n",
    "train_data=imag_grenator.flow_from_directory(train_dir,\n",
    "                                            batch_size=32,\n",
    "                                             subset=\"training\",\n",
    "                                            target_size=(224,224),\n",
    "                                            class_mode=\"categorical\",\n",
    "                                             seed=42,\n",
    "                                             \n",
    "                                            )\n",
    "test_data=imag_grenator.flow_from_directory(test_dir,\n",
    "                                           batch_size=32,\n",
    "                                            subset=\"validation\",\n",
    "                                           target_size=(224,224),\n",
    "                                            class_mode=\"categorical\",\n",
    "                                           seed=32)"
   ]
  },
  {
   "cell_type": "markdown",
   "id": "ee7ae5ad",
   "metadata": {},
   "source": [
    "# مسار صور الفئة الأقل\n",
    "minority_class_dir = \"dataset/Plum\"\n",
    "\n",
    "# زيادة بيانات الفئة الأقل\n",
    "for image_file in os.listdir(minority_class_dir):\n",
    "    image_path = os.path.join(minority_class_dir, image_file)\n",
    "    image = tf.keras.utils.load_img(image_path)\n",
    "    x = tf.keras.utils.img_to_array(image)\n",
    "    x = x.reshape((1,) + x.shape)\n",
    "    \n",
    "    i = 0\n",
    "    for batch in imag_grenator.flow(x, batch_size=1, save_to_dir=minority_class_dir, save_prefix='aug', save_format='jpeg'):\n",
    "        i += 1\n",
    "        if i >= 10:  # إضافة 10 صور لكل صورة موجودة\n",
    "            break"
   ]
  },
  {
   "cell_type": "raw",
   "id": "60fc528d",
   "metadata": {},
   "source": [
    "# مسار صور الفئة الأقل\n",
    "minority_class_dir = \"dataset/Papaya\"\n",
    "\n",
    "# زيادة بيانات الفئة الأقل\n",
    "for image_file in os.listdir(minority_class_dir):\n",
    "    image_path = os.path.join(minority_class_dir, image_file)\n",
    "    image = tf.keras.utils.load_img(image_path)\n",
    "    x = tf.keras.utils.img_to_array(image)\n",
    "    x = x.reshape((1,) + x.shape)\n",
    "    \n",
    "    i = 0\n",
    "    for batch in imag_grenator.flow(x, batch_size=1, save_to_dir=minority_class_dir, save_prefix='aug', save_format='jpeg'):\n",
    "        i += 1\n",
    "        if i >= 10:  # إضافة 10 صور لكل صورة موجودة\n",
    "            break"
   ]
  },
  {
   "cell_type": "markdown",
   "id": "3780c916",
   "metadata": {},
   "source": [
    "# مسار صور الفئة الأقل\n",
    "minority_class_dir = \"dataset//\"\n",
    "\n",
    "# زيادة بيانات الفئة الأقل\n",
    "for image_file in os.listdir(minority_class_dir):\n",
    "    image_path = os.path.join(minority_class_dir, image_file)\n",
    "    image = tf.keras.utils.load_img(image_path)\n",
    "    x = tf.keras.utils.img_to_array(image)\n",
    "    x = x.reshape((1,) + x.shape)\n",
    "    \n",
    "    i = 0\n",
    "    for batch in imag_grenator.flow(x, batch_size=1, save_to_dir=minority_class_dir, save_prefix='aug', save_format='jpeg'):\n",
    "        i += 1\n",
    "        if i >= 2:  # إضافة 10 صور لكل صورة موجودة\n",
    "            break"
   ]
  },
  {
   "cell_type": "code",
   "execution_count": null,
   "id": "4178f092",
   "metadata": {},
   "outputs": [],
   "source": [
    "import os\n",
    "from collections import Counter\n",
    "\n",
    "# مسار مجلد البيانات\n",
    "data_dir = \"dataset/\"\n",
    "\n",
    "# احصاء عدد الصور في كل فئة\n",
    "categories = os.listdir(data_dir)\n",
    "class_counts = {category: len(os.listdir(os.path.join(data_dir, category))) for category in categories}\n",
    "\n",
    "print(\"توزيع البيانات:\", class_counts)"
   ]
  },
  {
   "cell_type": "code",
   "execution_count": null,
   "id": "d37da693",
   "metadata": {},
   "outputs": [],
   "source": []
  },
  {
   "cell_type": "code",
   "execution_count": null,
   "id": "5a170907",
   "metadata": {},
   "outputs": [],
   "source": [
    "model=tf.keras.Sequential([\n",
    "    tf.keras.layers.Conv2D(filters=10,\n",
    "                           kernel_size=3,\n",
    "                           activation=\"relu\",\n",
    "                           padding=\"valid\",\n",
    "                           input_shape=(224,224,3)\n",
    "                         ),\n",
    "    tf.keras.layers.MaxPool2D(),\n",
    "    tf.keras.layers.Conv2D(filters=10,\n",
    "                           kernel_size=3,\n",
    "                           activation=\"relu\",),\n",
    "    tf.keras.layers.MaxPool2D(),\n",
    "    \n",
    "    tf.keras.layers.Flatten(),\n",
    "    tf.keras.layers.Dense(17,activation=\"softmax\")\n",
    "])\n",
    "model.compile(loss=tf.keras.losses.categorical_crossentropy,\n",
    "             optimizer=tf.keras.optimizers.Adam(learning_rate=0.01),\n",
    "             metrics=[\"accuracy\"])\n",
    "\n",
    "history=model.fit(train_data,\n",
    "         epochs=5,\n",
    "         steps_per_epoch=len(train_data),\n",
    "         validation_data=test_data,\n",
    "         validation_split=len(test_data))\n"
   ]
  },
  {
   "cell_type": "code",
   "execution_count": null,
   "id": "d09e3b5d",
   "metadata": {},
   "outputs": [],
   "source": [
    "import pandas as pd"
   ]
  },
  {
   "cell_type": "code",
   "execution_count": null,
   "id": "b6dc4e88",
   "metadata": {},
   "outputs": [],
   "source": [
    "pd.DataFrame(history.history)"
   ]
  },
  {
   "cell_type": "code",
   "execution_count": null,
   "id": "b9c46345",
   "metadata": {},
   "outputs": [],
   "source": [
    "import matplotlib.pyplot as plt\n",
    "\n",
    "# رسم الدقة\n",
    "plt.plot(history.history['accuracy'], label='Training Accuracy')\n",
    "plt.plot(history.history['val_accuracy'], label='Validation Accuracy')\n",
    "plt.legend()\n",
    "plt.show()\n",
    "\n",
    "# رسم الخسارة\n",
    "plt.plot(history.history['loss'], label='Training Loss')\n",
    "plt.plot(history.history['val_loss'], label='Validation Loss')\n",
    "plt.legend()\n",
    "plt.show()"
   ]
  },
  {
   "cell_type": "code",
   "execution_count": null,
   "id": "dc52e3d2",
   "metadata": {},
   "outputs": [],
   "source": [
    "model_1=tf.keras.Sequential([\n",
    "    tf.keras.layers.Conv2D(filters=10,\n",
    "                           kernel_size=3,\n",
    "                           activation=\"relu\",\n",
    "                           padding=\"valid\",\n",
    "                           input_shape=(224,224,3)\n",
    "                         ),\n",
    "    tf.keras.layers.MaxPool2D(),\n",
    "    tf.keras.layers.Conv2D(filters=10,\n",
    "                           kernel_size=3,\n",
    "                           activation=\"relu\",),\n",
    "    tf.keras.layers.MaxPool2D(),\n",
    "    tf.keras.layers.Conv2D(filters=10,\n",
    "                           kernel_size=3,\n",
    "                           activation=\"relu\",),\n",
    "    tf.keras.layers.MaxPool2D(),\n",
    "    tf.keras.layers.Flatten(),\n",
    "     tf.keras.layers.Dense(20,activation=\"relu\"),\n",
    "    tf.keras.layers.Dense(17,activation=\"softmax\")\n",
    "])\n",
    "model_1.compile(loss=tf.keras.losses.categorical_crossentropy,\n",
    "             optimizer=tf.keras.optimizers.Adam(learning_rate=0.01),\n",
    "             metrics=[\"accuracy\"])\n",
    "\n",
    "\n",
    "stop=tf.keras.callbacks.EarlyStopping(monitor=\"loss\",patience=5)\n",
    "history=model_1.fit(train_data,\n",
    "         epochs=6,\n",
    "         callbacks=[stop],\n",
    "         steps_per_epoch=len(train_data),\n",
    "         validation_data=test_data,\n",
    "         validation_split=len(test_data))\n"
   ]
  },
  {
   "cell_type": "code",
   "execution_count": null,
   "id": "efdbd801",
   "metadata": {},
   "outputs": [],
   "source": [
    "# رسم الدقة\n",
    "plt.plot(history.history['accuracy'], label='Training Accuracy')\n",
    "plt.plot(history.history['val_accuracy'], label='Validation Accuracy')\n",
    "plt.legend()\n",
    "plt.show()\n",
    "\n",
    "# رسم الخسارة\n",
    "plt.plot(history.history['loss'], label='Training Loss')\n",
    "plt.plot(history.history['val_loss'], label='Validation Loss')\n",
    "plt.legend()\n",
    "plt.show()"
   ]
  },
  {
   "cell_type": "code",
   "execution_count": null,
   "id": "7f08fcf4",
   "metadata": {},
   "outputs": [],
   "source": [
    "len(os.listdir(\"dataset/Apple/\"))"
   ]
  },
  {
   "cell_type": "code",
   "execution_count": null,
   "id": "afcd3254",
   "metadata": {},
   "outputs": [],
   "source": [
    "model_2=tf.keras.Sequential([\n",
    "    tf.keras.layers.Conv2D(filters=10,\n",
    "                           kernel_size=3,\n",
    "                           activation=\"relu\",\n",
    "                           padding=\"valid\",\n",
    "                           input_shape=(224,224,3)\n",
    "                         ),\n",
    "    tf.keras.layers.MaxPool2D(),\n",
    "    tf.keras.layers.Conv2D(filters=10,\n",
    "                           kernel_size=3,\n",
    "                           activation=\"relu\",),\n",
    "    tf.keras.layers.MaxPool2D(),\n",
    "    tf.keras.layers.Conv2D(filters=10,\n",
    "                           kernel_size=3,\n",
    "                           activation=\"relu\",),\n",
    "    tf.keras.layers.MaxPool2D(),\n",
    "    tf.keras.layers.Flatten(),\n",
    "     tf.keras.layers.Dense(256,activation=\"relu\"),\n",
    "\n",
    "    tf.keras.layers.Dense(17,activation=\"softmax\")\n",
    "])\n",
    "model_2.compile(loss=tf.keras.losses.categorical_crossentropy,\n",
    "             optimizer=tf.keras.optimizers.Adam(learning_rate=0.001),\n",
    "             metrics=[\"accuracy\"])\n",
    "\n",
    "\n",
    "stop=tf.keras.callbacks.EarlyStopping(monitor=\"loss\",patience=5)\n",
    "history=model_2.fit(train_data,\n",
    "         epochs=6,\n",
    "         callbacks=[stop],\n",
    "         steps_per_epoch=len(train_data),\n",
    "         validation_data=test_data,\n",
    "         validation_split=len(test_data))\n"
   ]
  },
  {
   "cell_type": "code",
   "execution_count": null,
   "id": "8a1e79e4",
   "metadata": {},
   "outputs": [],
   "source": []
  },
  {
   "cell_type": "code",
   "execution_count": null,
   "id": "ec8c6953",
   "metadata": {},
   "outputs": [],
   "source": [
    "# رسم الدقة\n",
    "plt.plot(history.history['accuracy'], label='Training Accuracy')\n",
    "plt.plot(history.history['val_accuracy'], label='Validation Accuracy')\n",
    "plt.legend()\n",
    "plt.show()\n",
    "\n",
    "# رسم الخسارة\n",
    "plt.plot(history.history['loss'], label='Training Loss')\n",
    "plt.plot(history.history['val_loss'], label='Validation Loss')\n",
    "plt.legend()\n",
    "plt.show()"
   ]
  },
  {
   "cell_type": "code",
   "execution_count": null,
   "id": "1ad74433",
   "metadata": {},
   "outputs": [],
   "source": [
    "model_4=tf.keras.Sequential([\n",
    "    tf.keras.layers.Conv2D(filters=10,\n",
    "                           kernel_size=3,\n",
    "                           activation=\"relu\",\n",
    "                           padding=\"valid\",\n",
    "                           input_shape=(224,224,3)\n",
    "                         ),\n",
    "    tf.keras.layers.MaxPool2D(),\n",
    "    tf.keras.layers.Conv2D(filters=10,\n",
    "                           kernel_size=3,\n",
    "                           activation=\"relu\",),\n",
    "    tf.keras.layers.MaxPool2D(),\n",
    "    tf.keras.layers.Conv2D(filters=10,\n",
    "                           kernel_size=3,\n",
    "                           activation=\"relu\",),\n",
    "        tf.keras.layers.MaxPool2D(),\n",
    "    tf.keras.layers.Conv2D(filters=10,\n",
    "                           kernel_size=3,\n",
    "                           activation=\"relu\",),\n",
    "    tf.keras.layers.MaxPool2D(),\n",
    "    tf.keras.layers.Flatten(),\n",
    "     tf.keras.layers.Dense(256,activation=\"relu\"),\n",
    "    tf.keras.layers.Dense(128,activation=\"relu\"),\n",
    "\n",
    "\n",
    "\n",
    "    tf.keras.layers.Dense(17,activation=\"softmax\")\n",
    "])\n",
    "model_4.compile(loss=tf.keras.losses.categorical_crossentropy,\n",
    "             optimizer=tf.keras.optimizers.Adam(learning_rate=0.001),\n",
    "             metrics=[\"accuracy\"])\n",
    "\n",
    "\n",
    "stop=tf.keras.callbacks.EarlyStopping(monitor=\"loss\",patience=7)\n",
    "history=model_4.fit(train_data,\n",
    "         epochs=30,\n",
    "         callbacks=[stop],\n",
    "         steps_per_epoch=len(train_data),\n",
    "         validation_data=test_data,\n",
    "         validation_split=len(test_data))\n"
   ]
  },
  {
   "cell_type": "code",
   "execution_count": null,
   "id": "6a805417",
   "metadata": {},
   "outputs": [],
   "source": [
    "# رسم الدقة\n",
    "plt.plot(history.history['accuracy'], label='Training Accuracy')\n",
    "plt.plot(history.history['val_accuracy'], label='Validation Accuracy')\n",
    "plt.legend()\n",
    "plt.show()\n",
    "\n",
    "# رسم الخسارة\n",
    "plt.plot(history.history['loss'], label='Training Loss')\n",
    "plt.plot(history.history['val_loss'], label='Validation Loss')\n",
    "plt.legend()\n",
    "plt.show()"
   ]
  },
  {
   "cell_type": "code",
   "execution_count": null,
   "id": "43aae9c8",
   "metadata": {},
   "outputs": [],
   "source": [
    "pd.DataFrame(history.history)"
   ]
  },
  {
   "cell_type": "code",
   "execution_count": null,
   "id": "e82508e5",
   "metadata": {},
   "outputs": [],
   "source": [
    "imagee=os.listdir(\"dataset/\")"
   ]
  },
  {
   "cell_type": "code",
   "execution_count": null,
   "id": "3ea166e9",
   "metadata": {},
   "outputs": [],
   "source": [
    "def image_prodects(file_namee,image_si=224):\n",
    "    imag_file=tf.io.read_file(file_namee)\n",
    "    imag_encod=tf.image.decode_image(imag_file,channels=3)\n",
    "    image_rezizee=tf.image.resize(imag_encod,size=[image_si,image_si])\n",
    "    image_expanda=tf.expand_dims(image_rezizee,axis=0)\n",
    "    imag_pexl=image_expanda/255.0\n",
    "    imag_prod=model_4.predict(imag_pexl)\n",
    "    print(imag_prod)\n",
    "    print(imag_prod.argmax())\n",
    "    restee=imagee[imag_prod.argmax()]\n",
    "    plt.imshow(imag_encod)\n",
    "    plt.title(restee)\n",
    "    return restee\n",
    "    \n",
    "    \n",
    "\n"
   ]
  },
  {
   "cell_type": "code",
   "execution_count": null,
   "id": "5f057004",
   "metadata": {},
   "outputs": [],
   "source": [
    " image_prodects(\"a/Pink-Lady_002.jpg\")"
   ]
  },
  {
   "cell_type": "code",
   "execution_count": null,
   "id": "369e3b83",
   "metadata": {},
   "outputs": [],
   "source": [
    " image_prodects(\"a/Avocado_030.jpg\")"
   ]
  },
  {
   "cell_type": "code",
   "execution_count": null,
   "id": "4b08a825",
   "metadata": {},
   "outputs": [],
   "source": [
    "model_4.save(\"model_4.h5\")"
   ]
  },
  {
   "cell_type": "code",
   "execution_count": null,
   "id": "651afd05",
   "metadata": {},
   "outputs": [],
   "source": []
  },
  {
   "cell_type": "code",
   "execution_count": null,
   "id": "c7c0c239",
   "metadata": {},
   "outputs": [],
   "source": []
  },
  {
   "cell_type": "code",
   "execution_count": null,
   "id": "bf963035",
   "metadata": {},
   "outputs": [],
   "source": []
  },
  {
   "cell_type": "code",
   "execution_count": null,
   "id": "2ad3c9dc",
   "metadata": {},
   "outputs": [],
   "source": []
  },
  {
   "cell_type": "code",
   "execution_count": null,
   "id": "20ba737a",
   "metadata": {},
   "outputs": [],
   "source": []
  },
  {
   "cell_type": "code",
   "execution_count": null,
   "id": "a23dabf9",
   "metadata": {},
   "outputs": [],
   "source": []
  },
  {
   "cell_type": "code",
   "execution_count": null,
   "id": "32839003",
   "metadata": {},
   "outputs": [],
   "source": []
  },
  {
   "cell_type": "code",
   "execution_count": null,
   "id": "5ab03803",
   "metadata": {},
   "outputs": [],
   "source": []
  },
  {
   "cell_type": "code",
   "execution_count": null,
   "id": "f5b012b9",
   "metadata": {},
   "outputs": [],
   "source": []
  },
  {
   "cell_type": "code",
   "execution_count": null,
   "id": "86df5afd",
   "metadata": {},
   "outputs": [],
   "source": []
  },
  {
   "cell_type": "code",
   "execution_count": null,
   "id": "ee85bfda",
   "metadata": {},
   "outputs": [],
   "source": []
  },
  {
   "cell_type": "code",
   "execution_count": null,
   "id": "b1c1df4a",
   "metadata": {},
   "outputs": [],
   "source": []
  },
  {
   "cell_type": "code",
   "execution_count": null,
   "id": "7bc5e696",
   "metadata": {},
   "outputs": [],
   "source": []
  }
 ],
 "metadata": {
  "kernelspec": {
   "display_name": "Python 3 (ipykernel)",
   "language": "python",
   "name": "python3"
  },
  "language_info": {
   "codemirror_mode": {
    "name": "ipython",
    "version": 3
   },
   "file_extension": ".py",
   "mimetype": "text/x-python",
   "name": "python",
   "nbconvert_exporter": "python",
   "pygments_lexer": "ipython3",
   "version": "3.9.7"
  }
 },
 "nbformat": 4,
 "nbformat_minor": 5
}
